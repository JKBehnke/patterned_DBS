{
 "cells": [
  {
   "cell_type": "markdown",
   "metadata": {},
   "source": [
    "# Burst DBS Helpers\n"
   ]
  },
  {
   "cell_type": "markdown",
   "metadata": {},
   "source": [
    "## Randomization of patients to \n",
    "- continuous DBS first OR \n",
    "- burst DBS first"
   ]
  },
  {
   "cell_type": "code",
   "execution_count": 3,
   "metadata": {},
   "outputs": [
    {
     "name": "stdout",
     "output_type": "stream",
     "text": [
      "    PatientID             Group\n",
      "0           1  continuous_first\n",
      "1           2       burst_first\n",
      "2           3  continuous_first\n",
      "3           4  continuous_first\n",
      "4           5  continuous_first\n",
      "5           6  continuous_first\n",
      "6           7  continuous_first\n",
      "7           8       burst_first\n",
      "8           9       burst_first\n",
      "9          10  continuous_first\n",
      "10         11       burst_first\n",
      "11         12       burst_first\n",
      "12         13  continuous_first\n",
      "13         14       burst_first\n",
      "14         15  continuous_first\n",
      "15         16       burst_first\n",
      "16         17  continuous_first\n",
      "17         18       burst_first\n",
      "18         19       burst_first\n",
      "19         20  continuous_first\n"
     ]
    }
   ],
   "source": [
    "import pandas as pd\n",
    "import numpy as np\n",
    "\n",
    "# Set the seed for reproducibility\n",
    "np.random.seed(123)\n",
    "\n",
    "# Create a DataFrame with patient IDs\n",
    "num_patients = 20\n",
    "patients = pd.DataFrame({'PatientID': range(1, num_patients + 1)})\n",
    "\n",
    "# Randomly assign patients to Group 1 or Group 2\n",
    "patients['Group'] = np.random.choice(['continuous_first', 'burst_first'], size=num_patients)\n",
    "\n",
    "# Display the result\n",
    "print(patients)"
   ]
  },
  {
   "cell_type": "code",
   "execution_count": null,
   "metadata": {},
   "outputs": [],
   "source": []
  },
  {
   "cell_type": "code",
   "execution_count": null,
   "metadata": {},
   "outputs": [],
   "source": []
  }
 ],
 "metadata": {
  "kernelspec": {
   "display_name": "bssu",
   "language": "python",
   "name": "python3"
  },
  "language_info": {
   "codemirror_mode": {
    "name": "ipython",
    "version": 3
   },
   "file_extension": ".py",
   "mimetype": "text/x-python",
   "name": "python",
   "nbconvert_exporter": "python",
   "pygments_lexer": "ipython3",
   "version": "3.11.3"
  }
 },
 "nbformat": 4,
 "nbformat_minor": 2
}
